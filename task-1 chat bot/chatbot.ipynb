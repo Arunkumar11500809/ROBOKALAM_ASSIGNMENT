{
  "nbformat": 4,
  "nbformat_minor": 0,
  "metadata": {
    "colab": {
      "name": "chatbot.ipynb",
      "provenance": [],
      "collapsed_sections": []
    },
    "kernelspec": {
      "name": "python3",
      "display_name": "Python 3"
    },
    "accelerator": "GPU"
  },
  "cells": [
    {
      "cell_type": "markdown",
      "metadata": {
        "id": "HjomknDAvi7U"
      },
      "source": [
        "**#chat bot program**"
      ]
    },
    {
      "cell_type": "code",
      "metadata": {
        "id": "o1jCByRsW89c"
      },
      "source": [
        "import nltk"
      ],
      "execution_count": 1,
      "outputs": []
    },
    {
      "cell_type": "code",
      "metadata": {
        "id": "unLSDjRiXXP9"
      },
      "source": [
        "from nltk.chat.util import Chat, reflections"
      ],
      "execution_count": 7,
      "outputs": []
    },
    {
      "cell_type": "code",
      "metadata": {
        "id": "Hl9I93u6XhxC"
      },
      "source": [
        "pair=[\n",
        "       ['my name is (.*)',['hello %1 nice name how can i help you?',]],\n",
        "       ['(hye|hi|hello)',['hey there']],\n",
        "       ['how was your lockdown?',['so stessful and \\n How about you?']],\n",
        "      ['what is your name',['My name is bot\\n and whats your name?']],\n",
        "      ['how is the weather in (.*) ?',['The weather in %1 is amazing like always']]      \n",
        "] #this is the message that you need to type in the textbox according to this message bot will respond"
      ],
      "execution_count": 8,
      "outputs": []
    },
    {
      "cell_type": "code",
      "metadata": {
        "id": "f-_OgFAFe4jO"
      },
      "source": [
        "def chats():\n",
        "  print(\"Hello, Am Bot)\\n lets chat or if you want to quit then type quite \")#message\n",
        "  "
      ],
      "execution_count": 9,
      "outputs": []
    },
    {
      "cell_type": "code",
      "metadata": {
        "colab": {
          "base_uri": "https://localhost:8080/"
        },
        "id": "AZIMH2xue4mh",
        "outputId": "7977b271-1985-4ecb-f48a-f5380b03d0c5"
      },
      "source": [
        "if __name__ == \"__main__\":\n",
        "  chats()\n",
        "chat=Chat(pair,reflections)\n",
        "\n",
        "chat.converse()\n"
      ],
      "execution_count": null,
      "outputs": [
        {
          "output_type": "stream",
          "text": [
            "Hello, Am Bot)\n",
            " lets chat or if you want to quit then type quite \n",
            ">hi\n",
            "hey there\n",
            ">how was your lockdown\n",
            "so stessful and \n",
            " How about you?\n",
            ">soo bad\n",
            "None\n"
          ],
          "name": "stdout"
        }
      ]
    },
    {
      "cell_type": "code",
      "metadata": {
        "id": "r4hExyd9nRXh"
      },
      "source": [
        ""
      ],
      "execution_count": null,
      "outputs": []
    }
  ]
}